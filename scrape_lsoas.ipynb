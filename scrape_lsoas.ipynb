{
 "cells": [
  {
   "cell_type": "markdown",
   "metadata": {},
   "source": [
    "## Scrape LSOAS"
   ]
  },
  {
   "cell_type": "code",
   "execution_count": null,
   "metadata": {},
   "outputs": [],
   "source": [
    "import requests\n",
    "import json\n",
    "import pandas as pd "
   ]
  },
  {
   "cell_type": "code",
   "execution_count": null,
   "metadata": {},
   "outputs": [],
   "source": [
    "DEST_SIZE = 3\n"
   ]
  },
  {
   "cell_type": "code",
   "execution_count": null,
   "metadata": {},
   "outputs": [],
   "source": [
    "df_lsoas = pd.read_csv(\"all_lsoas_with_coords.csv\")\n",
    "jsons = df_lsoas.to_dict(orient=\"records\")\n",
    "source = jsons[0]"
   ]
  },
  {
   "cell_type": "code",
   "execution_count": null,
   "metadata": {},
   "outputs": [],
   "source": [
    "def make_request(source, dest_list):\n",
    "    dests = \";\".join([f\"{c['lng']:.4f},{c['lat']:.4f}\" for c in dest_list])\n",
    "#     url = f\"https://osrm-great-britain.apps.alpha.mojanalytics.xyz/table/v1/driving/{source['lng']:.4f},{source['lat']:.4f};{dests}?sources=0;1;2;3;4;5;6;7;8;9;10&annotations=distance,duration\"\n",
    "    url = f\"https://osrm-great-britain.apps.alpha.mojanalytics.xyz/table/v1/driving/{source['lng']:.4f},{source['lat']:.4f};{dests}&annotations=distance,duration\"\n",
    "    r = requests.get(url)\n",
    "    result = json.loads(r.text)\n",
    "    return result\n"
   ]
  },
  {
   "cell_type": "code",
   "execution_count": null,
   "metadata": {},
   "outputs": [],
   "source": [
    "make_request"
   ]
  },
  {
   "cell_type": "code",
   "execution_count": null,
   "metadata": {},
   "outputs": [],
   "source": [
    "def result_to_table(result):\n",
    "    # Process result into table\n",
    "    dest1 = pd.Series(result['destinations'][1:], name=\"dest_result\")\n",
    "    dest2 = pd.Series(dest_list, name=\"dest_input\")\n",
    "    duration_seconds = pd.Series(result[\"durations\"][0][1:], name=\"duration_seconds\")\n",
    "    distance_meters = pd.Series(result[\"distances\"][0][1:], name=\"distance_meters\")\n",
    "    df = pd.concat([dest1,dest2, duration_seconds, distance_meters],axis=1)\n",
    "    df[\"dest_lsoa\"] = df[\"dest_input\"].map(lambda x: x[\"lsoa11cd\"])\n",
    "    # df[\"dest_lat_input\"] = df[\"dest_input\"].map(lambda x: x[\"lat\"])\n",
    "    # df[\"dest_lng_input\"] = df[\"dest_input\"].map(lambda x: x[\"lng\"])\n",
    "    df[\"dest_lat\"] = df[\"dest_result\"].map(lambda x: x[\"location\"][1])\n",
    "    df[\"dest_lng\"] = df[\"dest_result\"].map(lambda x: x[\"location\"][0])\n",
    "    df[\"source_lsoa\"] = source[\"lsoa11cd\"]\n",
    "    df[\"source_lat\"] = source[\"lat\"]\n",
    "    df[\"source_lng\"] = source[\"lng\"]\n",
    "    df.drop([\"dest_result\", \"dest_input\"], axis=1, inplace=True)\n",
    "    return df"
   ]
  },
  {
   "cell_type": "code",
   "execution_count": null,
   "metadata": {},
   "outputs": [],
   "source": []
  },
  {
   "cell_type": "code",
   "execution_count": null,
   "metadata": {},
   "outputs": [],
   "source": [
    "%%time\n",
    "dfs = []\n",
    "for i in range(1000):\n",
    "    start = i*500\n",
    "    end = (i+1)*500\n",
    "    print(f\"Start: {start}, End: {end}\")\n",
    "    dest_list = jsons[start:end]\n",
    "    if len(dest_list) == 0:\n",
    "        break\n",
    "    result = make_request(source, dest_list)\n",
    "    df = result_to_table(result)\n",
    "    print(f\"Done {i}\")\n",
    "    dfs.append(df)\n",
    "all_dfs = pd.concat(dfs)"
   ]
  },
  {
   "cell_type": "code",
   "execution_count": null,
   "metadata": {},
   "outputs": [],
   "source": [
    "\n"
   ]
  },
  {
   "cell_type": "code",
   "execution_count": null,
   "metadata": {},
   "outputs": [],
   "source": []
  },
  {
   "cell_type": "code",
   "execution_count": null,
   "metadata": {},
   "outputs": [],
   "source": [
    "# Write results out to open data bucket \n"
   ]
  },
  {
   "cell_type": "code",
   "execution_count": null,
   "metadata": {},
   "outputs": [],
   "source": [
    "69*69"
   ]
  },
  {
   "cell_type": "code",
   "execution_count": null,
   "metadata": {},
   "outputs": [],
   "source": [
    "result"
   ]
  },
  {
   "cell_type": "code",
   "execution_count": null,
   "metadata": {},
   "outputs": [],
   "source": []
  }
 ],
 "metadata": {
  "kernelspec": {
   "display_name": "Python 3",
   "language": "python",
   "name": "python3"
  },
  "language_info": {
   "codemirror_mode": {
    "name": "ipython",
    "version": 3
   },
   "file_extension": ".py",
   "mimetype": "text/x-python",
   "name": "python",
   "nbconvert_exporter": "python",
   "pygments_lexer": "ipython3",
   "version": "3.6.3"
  }
 },
 "nbformat": 4,
 "nbformat_minor": 2
}

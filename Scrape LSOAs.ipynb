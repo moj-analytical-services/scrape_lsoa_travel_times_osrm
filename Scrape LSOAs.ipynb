{
 "cells": [
  {
   "cell_type": "code",
   "execution_count": null,
   "metadata": {},
   "outputs": [],
   "source": [
    "import pandas as pd \n",
    "import geopandas\n",
    "from shapely.geometry import Point\n",
    "import requests"
   ]
  },
  {
   "cell_type": "code",
   "execution_count": null,
   "metadata": {},
   "outputs": [],
   "source": [
    "## We should have 34,753 LSOAs and 7,201 in total\n",
    "## Fro https://www.ons.gov.uk/methodology/geography/ukgeographies/censusgeography"
   ]
  },
  {
   "cell_type": "code",
   "execution_count": null,
   "metadata": {},
   "outputs": [],
   "source": [
    "import tempfile\n",
    "from urllib.request import urlretrieve\n",
    "import zipfile\n",
    "import os\n",
    "\n",
    "# We're going to use temporary files to download and unzip the ONS data.  This just means these temp files will be deleted for us at the end of the session\n",
    "tempdir = tempfile.TemporaryDirectory()\n",
    "tempfile = tempfile.NamedTemporaryFile()\n",
    "\n",
    "# http://geoportal.statistics.gov.uk/datasets/b7c49538f0464f748dd7137247bbc41c_0\n",
    "\n",
    "# http://geoportal1-ons.opendata.arcgis.com/datasets/b7c49538f0464f748dd7137247bbc41c_0\n",
    "url = \"https://opendata.arcgis.com/datasets/b7c49538f0464f748dd7137247bbc41c_0.zip\"\n",
    "zipped_shp = urlretrieve(url, tempfile.name)\n",
    "\n",
    "with zipfile.ZipFile(zipped_shp[0],\"r\") as zip_ref:\n",
    "    zip_ref.extractall(tempdir.name)\n",
    "\n",
    "shapefile_name = [f for f in os.listdir(tempdir.name) if f.endswith(\"shp\")][0]\n",
    "shapefile_path = os.path.join(tempdir.name, shapefile_name)\n",
    "\n",
    "lsoas = geopandas.read_file(shapefile_path)\n",
    "print(len(lsoas))"
   ]
  },
  {
   "cell_type": "code",
   "execution_count": null,
   "metadata": {},
   "outputs": [],
   "source": [
    "lsoas[\"lng\"] = lsoas[\"geometry\"].x \n",
    "lsoas[\"lat\"] = lsoas[\"geometry\"].y"
   ]
  },
  {
   "cell_type": "code",
   "execution_count": null,
   "metadata": {},
   "outputs": [],
   "source": [
    "# http://geoportal.statistics.gov.uk/datasets/output-area-to-lower-layer-super-output-area-to-middle-layer-super-output-area-to-local-authority-district-december-2011-lookup-in-england-and-wales\n",
    "# http://geoportal.statistics.gov.uk/datasets/output-area-to-lsoa-to-msoa-to-local-authority-district-december-2017-lookup-with-area-classifications-in-great-britain\n",
    "lookup_url = \"https://opendata.arcgis.com/datasets/6ecda95a83304543bc8feedbd1a58303_0.csv\"\n",
    "lookup = pd.read_csv(lookup_url)\n",
    "lookup.drop(\"OA11CD\", axis=1, inplace=True)\n",
    "lookup = lookup.drop_duplicates(\"LSOA11CD\")"
   ]
  },
  {
   "cell_type": "code",
   "execution_count": null,
   "metadata": {},
   "outputs": [],
   "source": [
    "merged = lsoas.merge(lookup, left_on = \"lsoa11cd\", right_on = \"LSOA11CD\" )\n",
    "len(merged)"
   ]
  },
  {
   "cell_type": "code",
   "execution_count": null,
   "metadata": {},
   "outputs": [],
   "source": [
    "lookup.head()"
   ]
  },
  {
   "cell_type": "code",
   "execution_count": null,
   "metadata": {},
   "outputs": [],
   "source": [
    "msoas = merged[\"MSOA11CD\"].unique()\n",
    "lsoas = merged[\"lsoa11cd\"].unique()"
   ]
  },
  {
   "cell_type": "code",
   "execution_count": null,
   "metadata": {},
   "outputs": [],
   "source": [
    "# Partition by MSOA but one file per LSOA"
   ]
  },
  {
   "cell_type": "code",
   "execution_count": null,
   "metadata": {},
   "outputs": [],
   "source": [
    "https://osrm-great-britain.apps.alpha.mojanalytics.xyz/route/v1/driving/-3.9528905,51.6197292;-1.2960193,51.6594136"
   ]
  },
  {
   "cell_type": "code",
   "execution_count": null,
   "metadata": {},
   "outputs": [],
   "source": [
    "base_url = \"https://osrm-great-britain.apps.alpha.mojanalytics.xyz/route/v1/driving/{from_lng},{from_lat};{to_lng},{to_lat}\""
   ]
  },
  {
   "cell_type": "code",
   "execution_count": null,
   "metadata": {},
   "outputs": [],
   "source": [
    "lsoa = lsoas[0]\n",
    "lsoa"
   ]
  },
  {
   "cell_type": "code",
   "execution_count": null,
   "metadata": {},
   "outputs": [],
   "source": [
    "from_lsoa = lsoa\n",
    "from_lng = merged[merged[\"lsoa11cd\"] == lsoa].lng[0]\n",
    "from_lat = merged[merged[\"lsoa11cd\"] == lsoa].lat[0]"
   ]
  },
  {
   "cell_type": "code",
   "execution_count": null,
   "metadata": {},
   "outputs": [],
   "source": [
    "import json\n",
    "def get_results(url, row, from_lsoa):\n",
    "    return_row = {}\n",
    "    r = requests.get(url)\n",
    "    routes = json.loads(r.text)\n",
    "    return_row[\"distance\"] = routes[\"routes\"][0][\"distance\"]\n",
    "    return_row[\"duration\"] = routes[\"routes\"][0][\"duration\"]\n",
    "    return_row[\"from_lsoa11cd\"] = from_lsoa\n",
    "    return_row[\"to_lsoa11cd\"] = row[\"lsoa11cd\"]\n",
    "    return return_row\n",
    "    \n",
    "    "
   ]
  },
  {
   "cell_type": "code",
   "execution_count": null,
   "metadata": {},
   "outputs": [],
   "source": [
    "%%time\n",
    "new_df = []\n",
    "counter = 0\n",
    "for r in merged[:1000].iterrows():\n",
    "\n",
    "    if counter % 100 == 0:\n",
    "        print(f\"Done {counter} rows\")\n",
    "    counter += 1\n",
    "    \n",
    "    row = r[1]\n",
    "    to_lat = row[\"lat\"]\n",
    "    to_lng = row[\"lng\"]\n",
    "    url = f\"https://www.google.co.uk/maps/dir/{from_lat},{from_lng}/{to_lat},{to_lng}\"\n",
    "    url = f\"https://osrm-great-britain.apps.alpha.mojanalytics.xyz/route/v1/driving/{from_lng},{from_lat};{to_lng},{to_lat}\"\n",
    "    return_row = get_results(url, row, from_lsoa)\n",
    "    new_df.append(return_row)\n",
    "print(\"done\")"
   ]
  },
  {
   "cell_type": "code",
   "execution_count": null,
   "metadata": {},
   "outputs": [],
   "source": [
    "sec = 41 * (34000**2) / 1000"
   ]
  },
  {
   "cell_type": "code",
   "execution_count": null,
   "metadata": {},
   "outputs": [],
   "source": [
    "sec/(60*60*24)"
   ]
  },
  {
   "cell_type": "code",
   "execution_count": null,
   "metadata": {},
   "outputs": [],
   "source": [
    "\"{:,.0f}\".format(34753 ** 2)"
   ]
  },
  {
   "cell_type": "code",
   "execution_count": null,
   "metadata": {},
   "outputs": [],
   "source": [
    "len(lookup[\"MSOA11CD\"].unique())"
   ]
  },
  {
   "cell_type": "code",
   "execution_count": null,
   "metadata": {},
   "outputs": [],
   "source": [
    "7201 ** 2"
   ]
  },
  {
   "cell_type": "code",
   "execution_count": null,
   "metadata": {},
   "outputs": [],
   "source": []
  }
 ],
 "metadata": {
  "kernelspec": {
   "display_name": "Python 3",
   "language": "python",
   "name": "python3"
  },
  "language_info": {
   "codemirror_mode": {
    "name": "ipython",
    "version": 3
   },
   "file_extension": ".py",
   "mimetype": "text/x-python",
   "name": "python",
   "nbconvert_exporter": "python",
   "pygments_lexer": "ipython3",
   "version": "3.6.3"
  }
 },
 "nbformat": 4,
 "nbformat_minor": 2
}
